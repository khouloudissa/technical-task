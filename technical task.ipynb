{
 "cells": [
  {
   "cell_type": "markdown",
   "id": "3b54e93a",
   "metadata": {},
   "source": [
    "# Technical Task - Khouloud ISSA"
   ]
  },
  {
   "cell_type": "markdown",
   "id": "b9ca4d33",
   "metadata": {},
   "source": [
    "# Exercices"
   ]
  },
  {
   "cell_type": "code",
   "execution_count": null,
   "id": "7d67cc06",
   "metadata": {},
   "outputs": [],
   "source": []
  },
  {
   "cell_type": "markdown",
   "id": "6d2aa4c0",
   "metadata": {
    "tags": []
   },
   "source": [
    "## 1) Create and one-dimensional array ‘a’ containing values: ‘1,2,3,4,5,6,7,8’ and print the number of dimensions in this array using built-in Numpy functionality."
   ]
  },
  {
   "cell_type": "code",
   "execution_count": 7,
   "id": "29977a28",
   "metadata": {},
   "outputs": [
    {
     "name": "stdout",
     "output_type": "stream",
     "text": [
      "shape: (8,)\n",
      "a= [1 2 3 4 5 6 7 8]\n",
      "number of dimensions is 1 D\n"
     ]
    }
   ],
   "source": [
    "import numpy as np\n",
    "a = np.arange(1,9,1)\n",
    "print('shape:',a.shape)\n",
    "print('a=',a)\n",
    "print('number of dimensions is',a.ndim,'D')"
   ]
  },
  {
   "cell_type": "markdown",
   "id": "c7753853",
   "metadata": {},
   "source": [
    "## 2) Replace all odd numbers in ‘a’ with ‘-1’ Input."
   ]
  },
  {
   "cell_type": "code",
   "execution_count": 8,
   "id": "dae7ba46",
   "metadata": {},
   "outputs": [
    {
     "name": "stdout",
     "output_type": "stream",
     "text": [
      "a= [-1  2 -1  4 -1  6 -1  8]\n"
     ]
    }
   ],
   "source": [
    "# a number is odd when the remainder of its devision by 2 is 1\n",
    "odd_numbers = (np.remainder(a,2)==1)\n",
    "a[odd_numbers] = -1\n",
    "print('a=',a)"
   ]
  },
  {
   "cell_type": "markdown",
   "id": "963e8a8f",
   "metadata": {},
   "source": [
    "## 3) Add two empty dimensions to the array ‘a’ using Numpy functionality."
   ]
  },
  {
   "cell_type": "code",
   "execution_count": 9,
   "id": "c4ab1126-0f4a-403b-b36a-e3f472267380",
   "metadata": {},
   "outputs": [
    {
     "name": "stdout",
     "output_type": "stream",
     "text": [
      "shape: (1, 1, 8)\n",
      "b= [[[-1  2 -1  4 -1  6 -1  8]]]\n",
      "3 D dimensions\n"
     ]
    }
   ],
   "source": [
    "b = np.expand_dims(a,(0,1))\n",
    "print('shape:',b.shape)\n",
    "print('b=',b)\n",
    "print(b.ndim,'D dimensions')"
   ]
  },
  {
   "cell_type": "markdown",
   "id": "ce4e4c88",
   "metadata": {},
   "source": [
    "## 4) Copy existing values into one of the unused empty dimensions, such that only one empty dimension remains."
   ]
  },
  {
   "cell_type": "code",
   "execution_count": 10,
   "id": "30b1c9b1",
   "metadata": {},
   "outputs": [
    {
     "name": "stdout",
     "output_type": "stream",
     "text": [
      "shape: (2, 1, 8)\n",
      "c= [[[-1  2 -1  4 -1  6 -1  8]]\n",
      "\n",
      " [[-1  2 -1  4 -1  6 -1  8]]]\n",
      "3 D dimensions\n"
     ]
    }
   ],
   "source": [
    "c = np.insert(b, 0, a, axis=0)\n",
    "print('shape:',c.shape)\n",
    "print('c=',c)\n",
    "print(c.ndim,'D dimensions')"
   ]
  },
  {
   "cell_type": "markdown",
   "id": "65045ec7-9ef2-4e1e-8357-b46987acc10f",
   "metadata": {},
   "source": [
    "## 5) Remove all the unused dimensions."
   ]
  },
  {
   "cell_type": "code",
   "execution_count": 11,
   "id": "398a82e8",
   "metadata": {
    "tags": []
   },
   "outputs": [
    {
     "name": "stdout",
     "output_type": "stream",
     "text": [
      "(2, 8)\n",
      "[[-1  2 -1  4 -1  6 -1  8]\n",
      " [-1  2 -1  4 -1  6 -1  8]]\n",
      "2 D dimensions\n"
     ]
    }
   ],
   "source": [
    "d = np.squeeze(c,1)\n",
    "print(d.shape)\n",
    "print(d)\n",
    "print(d.ndim,'D dimensions')"
   ]
  },
  {
   "cell_type": "code",
   "execution_count": null,
   "id": "296f91ec-57b0-4720-88df-340885b5582e",
   "metadata": {},
   "outputs": [],
   "source": []
  }
 ],
 "metadata": {
  "kernelspec": {
   "display_name": "Python 3 (ipykernel)",
   "language": "python",
   "name": "python3"
  },
  "language_info": {
   "codemirror_mode": {
    "name": "ipython",
    "version": 3
   },
   "file_extension": ".py",
   "mimetype": "text/x-python",
   "name": "python",
   "nbconvert_exporter": "python",
   "pygments_lexer": "ipython3",
   "version": "3.9.7"
  }
 },
 "nbformat": 4,
 "nbformat_minor": 5
}
